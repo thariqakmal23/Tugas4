{
  "nbformat": 4,
  "nbformat_minor": 0,
  "metadata": {
    "colab": {
      "provenance": [],
      "authorship_tag": "ABX9TyN5v2hYtVjwVXKtUsuYhAi7",
      "include_colab_link": true
    },
    "kernelspec": {
      "name": "python3",
      "display_name": "Python 3"
    },
    "language_info": {
      "name": "python"
    }
  },
  "cells": [
    {
      "cell_type": "markdown",
      "metadata": {
        "id": "view-in-github",
        "colab_type": "text"
      },
      "source": [
        "<a href=\"https://colab.research.google.com/github/thariqakmal23/Tugas4/blob/main/TUGAS_4.ipynb\" target=\"_parent\"><img src=\"https://colab.research.google.com/assets/colab-badge.svg\" alt=\"Open In Colab\"/></a>"
      ]
    },
    {
      "cell_type": "code",
      "execution_count": null,
      "metadata": {
        "id": "rF3aHuOcFGV7"
      },
      "outputs": [],
      "source": []
    },
    {
      "cell_type": "markdown",
      "source": [
        "1. Tentukan determinan matriks berikut:\n",
        "\n",
        "$$\\displaystyle A = \\left( \\begin{array}{cc}\n",
        "1 & 2 \\\\\n",
        "3 & 4\n",
        "\\end{array}\n",
        "\\right)\n",
        "$$"
      ],
      "metadata": {
        "id": "4PvT7wR1FNFy"
      }
    },
    {
      "cell_type": "code",
      "source": [
        "import numpy as np\n",
        "\n",
        "# Membuat matriks 2x2\n",
        "M = np.array([[1, 2], [3, 4]])\n",
        "\n",
        "# Menghitung determinan matriks\n",
        "determinant = np.linalg.det(M)\n",
        "\n",
        "print(determinant)"
      ],
      "metadata": {
        "colab": {
          "base_uri": "https://localhost:8080/"
        },
        "id": "_v-5X2ziFP9V",
        "outputId": "8087f7af-61ea-4617-f6e0-19145a83a981"
      },
      "execution_count": 1,
      "outputs": [
        {
          "output_type": "stream",
          "name": "stdout",
          "text": [
            "-2.0000000000000004\n"
          ]
        }
      ]
    },
    {
      "cell_type": "markdown",
      "source": [
        "2. Tentukan invers Matriks Berikut:\n",
        "\n",
        "$$\\displaystyle B = \\left( \\begin{array}{cc}\n",
        "10 & -22 \\\\\n",
        "3 & 45\n",
        "\\end{array}\n",
        "\\right)\n",
        "$$\n"
      ],
      "metadata": {
        "id": "NxiL0ARdFsdu"
      }
    },
    {
      "cell_type": "code",
      "source": [
        "import numpy as np\n",
        "\n",
        "# Membuat matriks 2x2\n",
        "M = np.array([[10, -22], [3, 45]])\n",
        "\n",
        "# Menghitung invers matriks\n",
        "inverse_of_M = np.linalg.inv(M)\n",
        "\n",
        "print(inverse_of_M)"
      ],
      "metadata": {
        "colab": {
          "base_uri": "https://localhost:8080/"
        },
        "id": "lYaKQOR5Fwum",
        "outputId": "e7913e6c-e6ed-4a1d-d099-ccd509bf9831"
      },
      "execution_count": 2,
      "outputs": [
        {
          "output_type": "stream",
          "name": "stdout",
          "text": [
            "[[ 0.0872093   0.04263566]\n",
            " [-0.00581395  0.01937984]]\n"
          ]
        }
      ]
    },
    {
      "cell_type": "markdown",
      "source": [
        "3. Tentukan apakah matriks berikut berkondisi buruk:\n",
        "$$\\displaystyle C = \\left( \\begin{array}{cc}\n",
        "1 & 10^{-10} \\\\\n",
        "10^{-10} & 1\n",
        "\\end{array}\n",
        "\\right)\n",
        "$$"
      ],
      "metadata": {
        "id": "dnBSYSdfF17m"
      }
    },
    {
      "cell_type": "code",
      "source": [
        "from numpy.linalg import \\\n",
        "             cond, matrix_rank\n",
        "\n",
        "A = np.array([[1,10^-10],\n",
        "              [10^-10,1]])\n",
        "\n",
        "print('Condition number:\\n', cond(A))"
      ],
      "metadata": {
        "colab": {
          "base_uri": "https://localhost:8080/"
        },
        "id": "njvd-BZPF3ZR",
        "outputId": "34ea1e81-3495-4ffb-d1cd-0777e5615acc"
      },
      "execution_count": 3,
      "outputs": [
        {
          "output_type": "stream",
          "name": "stdout",
          "text": [
            "Condition number:\n",
            " 1.6666666666666667\n"
          ]
        }
      ]
    },
    {
      "cell_type": "markdown",
      "source": [
        "4. Tentukan apakah sistem persamaan linier berikut memiliki solusi. Jika ada, bagaimana solusinya?\n",
        "\n",
        "$$\\displaystyle A = \\left( \\begin{array}{cc}\n",
        "1 & 2 \\\\\n",
        "3 & 4\n",
        "\\end{array}\n",
        "\\right) $$\n",
        "\n",
        "\n",
        "$$\\displaystyle\n",
        "b =  \\left( \\begin{array}{cc}\n",
        "5 & 6\n",
        "\\end{array}\n",
        "\\right) \\\\\n",
        "$$"
      ],
      "metadata": {
        "id": "unohH9vcGAaw"
      }
    },
    {
      "cell_type": "code",
      "source": [
        "import numpy as np\n",
        "\n",
        "# Koefisien matriks dari sistem persamaan linear\n",
        "coefficients = np.array([[1 , 2], [3 , 4]])\n",
        "\n",
        "# Vektor hasil dari sistem persamaan linear\n",
        "constants = np.array([5 , 6])\n",
        "\n",
        "# Mencari solusi menggunakan np.linalg.solve untuk mencari solusi sistem persamaan linear\n",
        "solution = np.linalg.solve(coefficients, constants)\n",
        "\n",
        "print(\"Solusi dari sistem persamaan linear:\")\n",
        "print(solution)\n"
      ],
      "metadata": {
        "colab": {
          "base_uri": "https://localhost:8080/"
        },
        "id": "fCTc0bH4GR6H",
        "outputId": "11a251fa-9992-466c-8a6c-ee3be10776c5"
      },
      "execution_count": 4,
      "outputs": [
        {
          "output_type": "stream",
          "name": "stdout",
          "text": [
            "Solusi dari sistem persamaan linear:\n",
            "[-4.   4.5]\n"
          ]
        }
      ]
    },
    {
      "cell_type": "markdown",
      "source": [
        "5. Tentukan dimensi ruang nol matriks berikut:\n",
        "\n",
        "\n",
        "$$\\displaystyle\n",
        "C =\n",
        "\\left(\n",
        "\\begin{array}{ccc}\n",
        "1 & 2 & 3 \\\\\n",
        "4 & 5 & 6 \\\\\n",
        "7 & 8 & 9\n",
        "\\end{array}\n",
        "\\right)\n",
        "$$"
      ],
      "metadata": {
        "id": "8OpCj_hAGVO_"
      }
    },
    {
      "cell_type": "code",
      "source": [
        "import numpy as np\n",
        "\n",
        "# Definisikan matriks\n",
        "matrix = np.array([\n",
        "    [1, 2, 3],\n",
        "    [4, 5, 6],\n",
        "    [7, 8, 9]\n",
        "])\n",
        "\n",
        "# Gunakan np.linalg untuk menghitung singular value decomposition (SVD)\n",
        "U, S, V = np.linalg.svd(matrix)\n",
        "\n",
        "# Hitung jumlah nilai singular yang mendekati nol\n",
        "nullity = np.sum(S < 1e-10)  # Ambil nilai yang sangat kecil sebagai threshold\n",
        "\n",
        "# Dimensi ruang nol adalah jumlah kolom dikurangi rank\n",
        "dimension_null_space = matrix.shape[1] - np.linalg.matrix_rank(matrix)\n",
        "\n",
        "print(\"Dimensi ruang nol (nullity):\", nullity)\n",
        "print(\"Dimensi ruang nol (alternatif):\", dimension_null_space)\n"
      ],
      "metadata": {
        "colab": {
          "base_uri": "https://localhost:8080/"
        },
        "id": "oDPUuNiUGXQY",
        "outputId": "fa7a921b-9b81-4b63-ed70-f5257d5c0bd9"
      },
      "execution_count": 5,
      "outputs": [
        {
          "output_type": "stream",
          "name": "stdout",
          "text": [
            "Dimensi ruang nol (nullity): 1\n",
            "Dimensi ruang nol (alternatif): 1\n"
          ]
        }
      ]
    }
  ]
}